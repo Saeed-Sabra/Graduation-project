{
 "cells": [
  {
   "cell_type": "code",
   "execution_count": 1,
   "metadata": {},
   "outputs": [],
   "source": [
    "import numpy as np\n",
    "import pandas as pd\n",
    "from sklearn.utils import shuffle\n",
    "from sklearn.preprocessing import LabelEncoder\n",
    "from sklearn.model_selection import train_test_split\n",
    "from keras.utils import to_categorical\n",
    "from keras.models import Sequential\n",
    "from keras.layers import Dense"
   ]
  },
  {
   "cell_type": "code",
   "execution_count": 3,
   "metadata": {},
   "outputs": [
    {
     "data": {
      "text/html": [
       "<div>\n",
       "<style scoped>\n",
       "    .dataframe tbody tr th:only-of-type {\n",
       "        vertical-align: middle;\n",
       "    }\n",
       "\n",
       "    .dataframe tbody tr th {\n",
       "        vertical-align: top;\n",
       "    }\n",
       "\n",
       "    .dataframe thead th {\n",
       "        text-align: right;\n",
       "    }\n",
       "</style>\n",
       "<table border=\"1\" class=\"dataframe\">\n",
       "  <thead>\n",
       "    <tr style=\"text-align: right;\">\n",
       "      <th></th>\n",
       "      <th>Age(year)</th>\n",
       "      <th>Gender</th>\n",
       "      <th>Height(cm)</th>\n",
       "      <th>Weight(kg)</th>\n",
       "      <th>BMI(kg/m^2)</th>\n",
       "      <th>Systolic Blood Pressure(mmHg)</th>\n",
       "      <th>Diastolic Blood Pressure(mmHg)</th>\n",
       "      <th>BP</th>\n",
       "      <th>cholesterol</th>\n",
       "      <th>gluc</th>\n",
       "      <th>smoke</th>\n",
       "      <th>alco</th>\n",
       "      <th>active</th>\n",
       "      <th>Target</th>\n",
       "    </tr>\n",
       "  </thead>\n",
       "  <tbody>\n",
       "    <tr>\n",
       "      <th>0</th>\n",
       "      <td>50</td>\n",
       "      <td>2</td>\n",
       "      <td>168</td>\n",
       "      <td>62.0</td>\n",
       "      <td>21.967120</td>\n",
       "      <td>110</td>\n",
       "      <td>80</td>\n",
       "      <td>90.000000</td>\n",
       "      <td>1</td>\n",
       "      <td>1</td>\n",
       "      <td>0</td>\n",
       "      <td>0</td>\n",
       "      <td>1</td>\n",
       "      <td>Normal</td>\n",
       "    </tr>\n",
       "    <tr>\n",
       "      <th>1</th>\n",
       "      <td>55</td>\n",
       "      <td>1</td>\n",
       "      <td>156</td>\n",
       "      <td>85.0</td>\n",
       "      <td>34.927679</td>\n",
       "      <td>140</td>\n",
       "      <td>90</td>\n",
       "      <td>106.666667</td>\n",
       "      <td>3</td>\n",
       "      <td>1</td>\n",
       "      <td>0</td>\n",
       "      <td>0</td>\n",
       "      <td>1</td>\n",
       "      <td>Stage2</td>\n",
       "    </tr>\n",
       "    <tr>\n",
       "      <th>2</th>\n",
       "      <td>51</td>\n",
       "      <td>1</td>\n",
       "      <td>165</td>\n",
       "      <td>64.0</td>\n",
       "      <td>23.507805</td>\n",
       "      <td>130</td>\n",
       "      <td>70</td>\n",
       "      <td>90.000000</td>\n",
       "      <td>3</td>\n",
       "      <td>1</td>\n",
       "      <td>0</td>\n",
       "      <td>0</td>\n",
       "      <td>0</td>\n",
       "      <td>Stage1</td>\n",
       "    </tr>\n",
       "    <tr>\n",
       "      <th>3</th>\n",
       "      <td>48</td>\n",
       "      <td>2</td>\n",
       "      <td>169</td>\n",
       "      <td>82.0</td>\n",
       "      <td>28.710479</td>\n",
       "      <td>150</td>\n",
       "      <td>100</td>\n",
       "      <td>116.666667</td>\n",
       "      <td>1</td>\n",
       "      <td>1</td>\n",
       "      <td>0</td>\n",
       "      <td>0</td>\n",
       "      <td>1</td>\n",
       "      <td>Stage1</td>\n",
       "    </tr>\n",
       "    <tr>\n",
       "      <th>4</th>\n",
       "      <td>47</td>\n",
       "      <td>1</td>\n",
       "      <td>156</td>\n",
       "      <td>56.0</td>\n",
       "      <td>23.011177</td>\n",
       "      <td>100</td>\n",
       "      <td>60</td>\n",
       "      <td>73.333333</td>\n",
       "      <td>1</td>\n",
       "      <td>1</td>\n",
       "      <td>0</td>\n",
       "      <td>0</td>\n",
       "      <td>0</td>\n",
       "      <td>Normal</td>\n",
       "    </tr>\n",
       "  </tbody>\n",
       "</table>\n",
       "</div>"
      ],
      "text/plain": [
       "   Age(year)  Gender  Height(cm)  Weight(kg)  BMI(kg/m^2)  \\\n",
       "0         50       2         168        62.0    21.967120   \n",
       "1         55       1         156        85.0    34.927679   \n",
       "2         51       1         165        64.0    23.507805   \n",
       "3         48       2         169        82.0    28.710479   \n",
       "4         47       1         156        56.0    23.011177   \n",
       "\n",
       "   Systolic Blood Pressure(mmHg)  Diastolic Blood Pressure(mmHg)          BP  \\\n",
       "0                            110                              80   90.000000   \n",
       "1                            140                              90  106.666667   \n",
       "2                            130                              70   90.000000   \n",
       "3                            150                             100  116.666667   \n",
       "4                            100                              60   73.333333   \n",
       "\n",
       "   cholesterol  gluc  smoke  alco  active  Target  \n",
       "0            1     1      0     0       1  Normal  \n",
       "1            3     1      0     0       1  Stage2  \n",
       "2            3     1      0     0       0  Stage1  \n",
       "3            1     1      0     0       1  Stage1  \n",
       "4            1     1      0     0       0  Normal  "
      ]
     },
     "execution_count": 3,
     "metadata": {},
     "output_type": "execute_result"
    }
   ],
   "source": [
    "in_data = pd.read_csv('./Dataset/BP_Dataset.csv')\n",
    "in_data.head()"
   ]
  },
  {
   "cell_type": "code",
   "execution_count": 5,
   "metadata": {},
   "outputs": [
    {
     "data": {
      "text/plain": [
       "(array([[ 60.        ,   2.        , 170.        ,  55.        ,\n",
       "          19.03114187, 140.        ,  80.        ,  99.9999998 ,\n",
       "           1.        ,   1.        ,   0.        ,   0.        ,\n",
       "           1.        ],\n",
       "        [ 44.        ,   1.        , 162.        ,  62.        ,\n",
       "          23.62444749, 130.        ,  80.        ,  96.6666665 ,\n",
       "           1.        ,   1.        ,   0.        ,   0.        ,\n",
       "           0.        ],\n",
       "        [ 54.        ,   2.        , 167.        ,  65.        ,\n",
       "          23.30668005, 120.        ,  80.        ,  93.3333332 ,\n",
       "           1.        ,   1.        ,   0.        ,   0.        ,\n",
       "           0.        ],\n",
       "        [ 53.        ,   2.        , 160.        ,  81.        ,\n",
       "          31.640625  , 140.        ,  80.        ,  99.9999998 ,\n",
       "           1.        ,   2.        ,   0.        ,   0.        ,\n",
       "           1.        ],\n",
       "        [ 56.        ,   1.        , 174.        ,  69.        ,\n",
       "          22.79032897, 120.        ,  80.        ,  93.3333332 ,\n",
       "           3.        ,   3.        ,   0.        ,   0.        ,\n",
       "           1.        ],\n",
       "        [ 55.        ,   1.        , 154.        ,  80.        ,\n",
       "          33.73250126, 110.        ,  70.        ,  83.3333332 ,\n",
       "           1.        ,   1.        ,   0.        ,   0.        ,\n",
       "           1.        ],\n",
       "        [ 61.        ,   1.        , 154.        ,  97.        ,\n",
       "          40.90065778, 140.        ,  80.        ,  99.9999998 ,\n",
       "           1.        ,   1.        ,   0.        ,   0.        ,\n",
       "           0.        ],\n",
       "        [ 56.        ,   1.        , 168.        ,  97.        ,\n",
       "          34.36791383, 120.        ,  70.        ,  86.6666665 ,\n",
       "           2.        ,   2.        ,   0.        ,   0.        ,\n",
       "           0.        ],\n",
       "        [ 41.        ,   1.        , 156.        ,  60.        ,\n",
       "          24.65483235, 120.        ,  80.        ,  93.3333332 ,\n",
       "           1.        ,   1.        ,   0.        ,   0.        ,\n",
       "           0.        ],\n",
       "        [ 57.        ,   1.        , 170.        ,  92.        ,\n",
       "          31.83391003, 150.        , 100.        , 116.6666665 ,\n",
       "           1.        ,   1.        ,   0.        ,   0.        ,\n",
       "           1.        ]]),\n",
       " array(['Stage2', 'Stage1', 'Elevated', 'Stage2', 'Elevated', 'Normal',\n",
       "        'Stage2', 'Elevated', 'Elevated', 'Stage1'], dtype=object))"
      ]
     },
     "execution_count": 5,
     "metadata": {},
     "output_type": "execute_result"
    }
   ],
   "source": [
    "in_data = shuffle(in_data)\n",
    "X = in_data.drop(['Target'], axis = 1)\n",
    "X = np.array(X)\n",
    "Y = np.array(in_data['Target'])\n",
    "X[:10], Y[:10]"
   ]
  },
  {
   "cell_type": "code",
   "execution_count": 16,
   "metadata": {},
   "outputs": [
    {
     "data": {
      "text/plain": [
       "array([[0., 0., 1., 0.],\n",
       "       [0., 1., 0., 0.],\n",
       "       [0., 1., 0., 0.],\n",
       "       ...,\n",
       "       [0., 0., 1., 0.],\n",
       "       [0., 0., 1., 0.],\n",
       "       [0., 1., 0., 0.]], dtype=float32)"
      ]
     },
     "execution_count": 16,
     "metadata": {},
     "output_type": "execute_result"
    }
   ],
   "source": [
    "l_encode = LabelEncoder()\n",
    "l_encode.fit(Y)\n",
    "Y = l_encode.transform(Y)\n",
    "Y = to_categorical(Y)\n",
    "Y"
   ]
  },
  {
   "cell_type": "code",
   "execution_count": 17,
   "metadata": {},
   "outputs": [
    {
     "data": {
      "text/plain": [
       "((39200, 13), (39200, 4), (16800, 13), (16800, 4))"
      ]
     },
     "execution_count": 17,
     "metadata": {},
     "output_type": "execute_result"
    }
   ],
   "source": [
    "train_x, test_x, train_y, test_y = train_test_split(X,Y, test_size = 0.3, random_state = 0)\n",
    "train_x.shape, train_y.shape, test_x.shape, test_y.shape"
   ]
  },
  {
   "cell_type": "code",
   "execution_count": 20,
   "metadata": {},
   "outputs": [
    {
     "name": "stdout",
     "output_type": "stream",
     "text": [
      "Epoch 1/15\n",
      "7840/7840 [==============================] - 9s 1ms/step - loss: 0.5284 - accuracy: 0.8362\n",
      "Epoch 2/15\n",
      "7840/7840 [==============================] - 8s 1ms/step - loss: 0.2355 - accuracy: 0.9189\n",
      "Epoch 3/15\n",
      "7840/7840 [==============================] - 8s 1ms/step - loss: 0.1192 - accuracy: 0.9608\n",
      "Epoch 4/15\n",
      "7840/7840 [==============================] - 8s 1ms/step - loss: 0.0736 - accuracy: 0.9772\n",
      "Epoch 5/15\n",
      "7840/7840 [==============================] - 9s 1ms/step - loss: 0.0641 - accuracy: 0.9807\n",
      "Epoch 6/15\n",
      "7840/7840 [==============================] - 9s 1ms/step - loss: 0.0541 - accuracy: 0.9841\n",
      "Epoch 7/15\n",
      "7840/7840 [==============================] - 9s 1ms/step - loss: 0.0570 - accuracy: 0.9833\n",
      "Epoch 8/15\n",
      "7840/7840 [==============================] - 8s 1ms/step - loss: 0.0491 - accuracy: 0.9850\n",
      "Epoch 9/15\n",
      "7840/7840 [==============================] - 8s 1ms/step - loss: 0.0519 - accuracy: 0.9845\n",
      "Epoch 10/15\n",
      "7840/7840 [==============================] - 8s 1ms/step - loss: 0.0474 - accuracy: 0.9862\n",
      "Epoch 11/15\n",
      "7840/7840 [==============================] - 8s 1ms/step - loss: 0.0462 - accuracy: 0.9866\n",
      "Epoch 12/15\n",
      "7840/7840 [==============================] - 9s 1ms/step - loss: 0.0472 - accuracy: 0.9873\n",
      "Epoch 13/15\n",
      "7840/7840 [==============================] - 8s 1ms/step - loss: 0.0464 - accuracy: 0.9867\n",
      "Epoch 14/15\n",
      "7840/7840 [==============================] - 8s 1ms/step - loss: 0.0769 - accuracy: 0.9781\n",
      "Epoch 15/15\n",
      "7840/7840 [==============================] - 8s 1ms/step - loss: 0.0555 - accuracy: 0.9856\n",
      "525/525 [==============================] - 1s 839us/step - loss: 0.0379 - accuracy: 0.9881\n",
      "\n",
      "loss: 0.038\n",
      "\n",
      "accuracy: 0.988\n"
     ]
    }
   ],
   "source": [
    "in_dim = len(in_data.columns)-1\n",
    "\n",
    "model = Sequential()\n",
    "model.add(Dense(8, input_dim = in_dim, activation = 'relu'))\n",
    "model.add(Dense(10, activation = 'relu'))\n",
    "model.add(Dense(10, activation = 'relu'))\n",
    "model.add(Dense(10, activation = 'relu'))\n",
    "model.add(Dense(4, activation = 'softmax'))\n",
    "\n",
    "model.compile(loss = 'categorical_crossentropy', optimizer = 'adam', metrics = ['accuracy'])\n",
    "model.fit(train_x, train_y, epochs = 15, batch_size = 5)\n",
    "scores = model.evaluate(test_x, test_y)\n",
    "\n",
    "for i, m in enumerate(model.metrics_names):\n",
    "    print(\"\\n%s: %.3f\"% (m, scores[i]))"
   ]
  },
  {
   "cell_type": "code",
   "execution_count": 21,
   "metadata": {},
   "outputs": [
    {
     "name": "stdout",
     "output_type": "stream",
     "text": [
      "1/1 [==============================] - 0s 57ms/step\n",
      "Predicted: Stage1, True: Stage1\n",
      "Predicted: Elevated, True: Elevated\n",
      "Predicted: Stage1, True: Stage1\n",
      "Predicted: Stage1, True: Stage1\n",
      "Predicted: Normal, True: Normal\n",
      "Predicted: Normal, True: Normal\n",
      "Predicted: Stage1, True: Stage1\n",
      "Predicted: Stage2, True: Stage2\n",
      "Predicted: Elevated, True: Elevated\n",
      "Predicted: Normal, True: Normal\n"
     ]
    }
   ],
   "source": [
    "test_size = 10\n",
    "pred_probs = model.predict(test_x[:test_size])\n",
    "pred = np.argmax(pred_probs, axis=1)\n",
    "pred_ = l_encode.inverse_transform(pred)\n",
    "\n",
    "true_y = l_encode.inverse_transform(np.argmax(test_y[:test_size], axis=1))\n",
    "\n",
    "for i, j in zip(pred_, true_y):\n",
    "    print(\"Predicted: {}, True: {}\".format(i, j))\n"
   ]
  },
  {
   "cell_type": "code",
   "execution_count": 22,
   "metadata": {},
   "outputs": [
    {
     "name": "stderr",
     "output_type": "stream",
     "text": [
      "c:\\Users\\hp\\AppData\\Local\\Programs\\Python\\Python311\\Lib\\site-packages\\keras\\src\\engine\\training.py:3079: UserWarning: You are saving your model as an HDF5 file via `model.save()`. This file format is considered legacy. We recommend using instead the native Keras format, e.g. `model.save('my_model.keras')`.\n",
      "  saving_api.save_model(\n"
     ]
    }
   ],
   "source": [
    "# Save the trained model weights to a file\n",
    "model.save('new_model.h5')"
   ]
  },
  {
   "cell_type": "code",
   "execution_count": 26,
   "metadata": {},
   "outputs": [
    {
     "data": {
      "text/plain": [
       "['label_encoder_classes.pkl']"
      ]
     },
     "execution_count": 26,
     "metadata": {},
     "output_type": "execute_result"
    }
   ],
   "source": [
    "import joblib\n",
    "\n",
    "# Save the LabelEncoder's classes_ attribute to a file\n",
    "joblib.dump(l_encode.classes_, 'label_encoder_classes.pkl')\n",
    "\n"
   ]
  }
 ],
 "metadata": {
  "kernelspec": {
   "display_name": "Python 3",
   "language": "python",
   "name": "python3"
  },
  "language_info": {
   "codemirror_mode": {
    "name": "ipython",
    "version": 3
   },
   "file_extension": ".py",
   "mimetype": "text/x-python",
   "name": "python",
   "nbconvert_exporter": "python",
   "pygments_lexer": "ipython3",
   "version": "3.11.5"
  }
 },
 "nbformat": 4,
 "nbformat_minor": 2
}
