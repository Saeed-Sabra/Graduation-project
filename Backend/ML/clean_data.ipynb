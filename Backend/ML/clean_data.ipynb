{
 "cells": [
  {
   "cell_type": "code",
   "execution_count": 9,
   "metadata": {},
   "outputs": [],
   "source": [
    "import pandas as pd"
   ]
  },
  {
   "cell_type": "code",
   "execution_count": 24,
   "metadata": {},
   "outputs": [],
   "source": [
    "# Load your dataset (replace 'your_dataset.csv' with the actual filename)\n",
    "# data = pd.read_excel('../Data set/PPG-BP-dataset.xlsx')\n",
    "data = pd.read_csv('./Dataset/original_dataset.csv')"
   ]
  },
  {
   "cell_type": "code",
   "execution_count": 25,
   "metadata": {},
   "outputs": [
    {
     "data": {
      "text/plain": [
       "Index(['id', 'Age(year)', 'Gender', 'Height(cm)', 'Weight(kg)', 'BMI(kg/m^2)',\n",
       "       'Systolic Blood Pressure(mmHg)', 'Diastolic Blood Pressure(mmHg)', 'BP',\n",
       "       'cholesterol', 'gluc', 'smoke', 'alco', 'active', 'cardio', 'Target'],\n",
       "      dtype='object')"
      ]
     },
     "execution_count": 25,
     "metadata": {},
     "output_type": "execute_result"
    }
   ],
   "source": [
    "data.columns"
   ]
  },
  {
   "cell_type": "code",
   "execution_count": 26,
   "metadata": {},
   "outputs": [
    {
     "name": "stdout",
     "output_type": "stream",
     "text": [
      "Columns with Missing Values:\n",
      "Target    224\n",
      "dtype: int64\n"
     ]
    }
   ],
   "source": [
    "# Check for missing values in each column\n",
    "missing_values = data.isnull()\n",
    "\n",
    "# Count the missing values in each column\n",
    "missing_counts = missing_values.sum()\n",
    "# Display the columns with missing values and their counts\n",
    "print(\"Columns with Missing Values:\")\n",
    "print(missing_counts[missing_counts > 0])"
   ]
  },
  {
   "cell_type": "code",
   "execution_count": 27,
   "metadata": {},
   "outputs": [],
   "source": [
    "#  handle missing values\n",
    "data.dropna(inplace=True)"
   ]
  },
  {
   "cell_type": "code",
   "execution_count": 15,
   "metadata": {},
   "outputs": [],
   "source": [
    "# removing the unnecessary columns\n",
    "data.drop(['id'], axis=1, inplace=True)\n",
    "data.drop(['cardio'], axis=1, inplace=True)"
   ]
  },
  {
   "cell_type": "code",
   "execution_count": 16,
   "metadata": {},
   "outputs": [
    {
     "data": {
      "text/plain": [
       "Index(['Age(year)', 'Gender', 'Height(cm)', 'Weight(kg)', 'BMI(kg/m^2)',\n",
       "       'Systolic Blood Pressure(mmHg)', 'Diastolic Blood Pressure(mmHg)', 'BP',\n",
       "       'cholesterol', 'gluc', 'smoke', 'alco', 'active', 'Target'],\n",
       "      dtype='object')"
      ]
     },
     "execution_count": 16,
     "metadata": {},
     "output_type": "execute_result"
    }
   ],
   "source": [
    "data.columns"
   ]
  },
  {
   "cell_type": "code",
   "execution_count": 17,
   "metadata": {},
   "outputs": [
    {
     "data": {
      "text/plain": [
       "4561"
      ]
     },
     "execution_count": 17,
     "metadata": {},
     "output_type": "execute_result"
    }
   ],
   "source": [
    "# check for duplicate data\n",
    "data.duplicated().sum()"
   ]
  },
  {
   "cell_type": "code",
   "execution_count": 18,
   "metadata": {},
   "outputs": [],
   "source": [
    "# removing the duplicate data\n",
    "data.drop_duplicates(inplace=True)"
   ]
  },
  {
   "cell_type": "code",
   "execution_count": 19,
   "metadata": {},
   "outputs": [
    {
     "data": {
      "text/plain": [
       "0"
      ]
     },
     "execution_count": 19,
     "metadata": {},
     "output_type": "execute_result"
    }
   ],
   "source": [
    "# check for duplicate data\n",
    "data.duplicated().sum()"
   ]
  },
  {
   "cell_type": "code",
   "execution_count": 20,
   "metadata": {},
   "outputs": [],
   "source": [
    "data.drop(data[(data['Height(cm)'] > data['Height(cm)'].quantile(0.975)) | (data['Height(cm)'] < data['Height(cm)'].quantile(0.025))].index,inplace=True)\n",
    "data.drop(data[(data['Weight(kg)'] > data['Weight(kg)'].quantile(0.975)) | (data['Weight(kg)'] < data['Weight(kg)'].quantile(0.025))].index,inplace=True)"
   ]
  },
  {
   "cell_type": "code",
   "execution_count": 21,
   "metadata": {},
   "outputs": [
    {
     "name": "stdout",
     "output_type": "stream",
     "text": [
      "Diastilic pressure is higher than systolic one in 1084 cases\n"
     ]
    }
   ],
   "source": [
    "print(\"Diastolic pressure is higher than systolic one in {0} cases\".format(data[data['Diastolic Blood Pressure(mmHg)']> data['Systolic Blood Pressure(mmHg)']].shape[0]))"
   ]
  },
  {
   "cell_type": "code",
   "execution_count": 22,
   "metadata": {},
   "outputs": [],
   "source": [
    "data.drop(data[(data['Systolic Blood Pressure(mmHg)'] > data['Systolic Blood Pressure(mmHg)'].quantile(0.975)) | (data['Systolic Blood Pressure(mmHg)'] < data['Systolic Blood Pressure(mmHg)'].quantile(0.025))].index,inplace=True)\n",
    "data.drop(data[(data['Diastolic Blood Pressure(mmHg)'] > data['Diastolic Blood Pressure(mmHg)'].quantile(0.975)) | (data['Diastolic Blood Pressure(mmHg)'] < data['Diastolic Blood Pressure(mmHg)'].quantile(0.025))].index,inplace=True)"
   ]
  },
  {
   "cell_type": "code",
   "execution_count": null,
   "metadata": {},
   "outputs": [],
   "source": [
    "# convert age from days to years\n",
    "data['age'] = round(data['age']/365.25,2)"
   ]
  },
  {
   "cell_type": "code",
   "execution_count": null,
   "metadata": {},
   "outputs": [],
   "source": [
    "# Save the data set after cleaning \n",
    "data.to_csv('BP_Dataset.csv', index=False)"
   ]
  }
 ],
 "metadata": {
  "kernelspec": {
   "display_name": "Python 3",
   "language": "python",
   "name": "python3"
  },
  "language_info": {
   "codemirror_mode": {
    "name": "ipython",
    "version": 3
   },
   "file_extension": ".py",
   "mimetype": "text/x-python",
   "name": "python",
   "nbconvert_exporter": "python",
   "pygments_lexer": "ipython3",
   "version": "3.11.5"
  }
 },
 "nbformat": 4,
 "nbformat_minor": 2
}
