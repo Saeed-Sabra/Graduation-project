{
 "cells": [
  {
   "cell_type": "code",
   "execution_count": 7,
   "metadata": {},
   "outputs": [],
   "source": [
    "import pandas as pd\n",
    "from sklearn.model_selection import train_test_split\n",
    "import tensorflow as tf\n",
    "from tensorflow import keras\n",
    "from sklearn.preprocessing import StandardScaler\n",
    "from sklearn.metrics import accuracy_score, confusion_matrix, classification_report"
   ]
  },
  {
   "cell_type": "code",
   "execution_count": 8,
   "metadata": {},
   "outputs": [],
   "source": [
    "# Load your dataset\n",
    "data = pd.read_csv('./Dataset/BP_Dataset.csv')"
   ]
  },
  {
   "cell_type": "code",
   "execution_count": 9,
   "metadata": {},
   "outputs": [
    {
     "data": {
      "text/plain": [
       "Index(['Age(year)', 'Gender', 'Height(cm)', 'Weight(kg)', 'BMI(kg/m^2)',\n",
       "       'Systolic Blood Pressure(mmHg)', 'Diastolic Blood Pressure(mmHg)', 'BP',\n",
       "       'cholesterol', 'gluc', 'smoke', 'alco', 'active', 'Target'],\n",
       "      dtype='object')"
      ]
     },
     "execution_count": 9,
     "metadata": {},
     "output_type": "execute_result"
    }
   ],
   "source": [
    "data.columns"
   ]
  },
  {
   "cell_type": "code",
   "execution_count": 10,
   "metadata": {},
   "outputs": [],
   "source": [
    "# Define the target variable\n",
    "target_column = \"Target\""
   ]
  },
  {
   "cell_type": "code",
   "execution_count": 11,
   "metadata": {},
   "outputs": [],
   "source": [
    "# Separate features (X) and target (y)\n",
    "X = data.drop(target_column, axis=1)\n",
    "y = (data[target_column] != 'Normal').astype(int)  # Convert to binary labels"
   ]
  },
  {
   "cell_type": "code",
   "execution_count": 12,
   "metadata": {},
   "outputs": [],
   "source": [
    "\n",
    "# Split the data into training and testing sets\n",
    "X_train, X_test, y_train, y_test = train_test_split(X, y, test_size=0.33, random_state=42)\n"
   ]
  },
  {
   "cell_type": "code",
   "execution_count": 13,
   "metadata": {},
   "outputs": [],
   "source": [
    "# Data normalization or scaling\n",
    "scaler = StandardScaler()\n",
    "X_train = scaler.fit_transform(X_train)\n",
    "X_test = scaler.transform(X_test)"
   ]
  },
  {
   "cell_type": "code",
   "execution_count": 14,
   "metadata": {},
   "outputs": [],
   "source": [
    "# Create a simple neural network model\n",
    "model = keras.Sequential([\n",
    "    keras.layers.Dense(64, activation='relu', input_shape=(X_train.shape[1],)),\n",
    "    keras.layers.Dense(32, activation='relu'),\n",
    "    keras.layers.Dense(1, activation='sigmoid')\n",
    "])"
   ]
  },
  {
   "cell_type": "code",
   "execution_count": 15,
   "metadata": {},
   "outputs": [],
   "source": [
    "# Compile the keras model\n",
    "model.compile(loss='binary_crossentropy', optimizer='adam', metrics=['accuracy'])\n"
   ]
  },
  {
   "cell_type": "code",
   "execution_count": 16,
   "metadata": {},
   "outputs": [
    {
     "name": "stdout",
     "output_type": "stream",
     "text": [
      "Epoch 1/15\n",
      "3752/3752 [==============================] - 6s 1ms/step - loss: 0.0330 - accuracy: 0.9892\n",
      "Epoch 2/15\n",
      "3752/3752 [==============================] - 5s 1ms/step - loss: 0.0042 - accuracy: 0.9990\n",
      "Epoch 3/15\n",
      "3752/3752 [==============================] - 5s 1ms/step - loss: 0.0027 - accuracy: 0.9993\n",
      "Epoch 4/15\n",
      "3752/3752 [==============================] - 4s 1ms/step - loss: 0.0024 - accuracy: 0.9993\n",
      "Epoch 5/15\n",
      "3752/3752 [==============================] - 4s 1ms/step - loss: 0.0017 - accuracy: 0.9995\n",
      "Epoch 6/15\n",
      "3752/3752 [==============================] - 4s 995us/step - loss: 0.0015 - accuracy: 0.9995\n",
      "Epoch 7/15\n",
      "3752/3752 [==============================] - 4s 1ms/step - loss: 0.0010 - accuracy: 0.9997\n",
      "Epoch 8/15\n",
      "3752/3752 [==============================] - 4s 991us/step - loss: 0.0017 - accuracy: 0.9995\n",
      "Epoch 9/15\n",
      "3752/3752 [==============================] - 4s 994us/step - loss: 7.5123e-04 - accuracy: 0.9998\n",
      "Epoch 10/15\n",
      "3752/3752 [==============================] - 4s 959us/step - loss: 9.6346e-04 - accuracy: 0.9998\n",
      "Epoch 11/15\n",
      "3752/3752 [==============================] - 4s 1ms/step - loss: 0.0014 - accuracy: 0.9995\n",
      "Epoch 12/15\n",
      "3752/3752 [==============================] - 4s 1ms/step - loss: 7.1518e-04 - accuracy: 0.9998\n",
      "Epoch 13/15\n",
      "3752/3752 [==============================] - 7s 2ms/step - loss: 0.0012 - accuracy: 0.9997\n",
      "Epoch 14/15\n",
      "3752/3752 [==============================] - 6s 2ms/step - loss: 4.0617e-04 - accuracy: 0.9998\n",
      "Epoch 15/15\n",
      "3752/3752 [==============================] - 6s 2ms/step - loss: 0.0012 - accuracy: 0.9997\n"
     ]
    },
    {
     "data": {
      "text/plain": [
       "<keras.src.callbacks.History at 0x20c4d1f7590>"
      ]
     },
     "execution_count": 16,
     "metadata": {},
     "output_type": "execute_result"
    }
   ],
   "source": [
    "# Fit the model on the training data\n",
    "model.fit(X_train, y_train, epochs=15, batch_size=10)"
   ]
  },
  {
   "cell_type": "code",
   "execution_count": 17,
   "metadata": {},
   "outputs": [
    {
     "name": "stdout",
     "output_type": "stream",
     "text": [
      "578/578 [==============================] - 1s 1ms/step\n"
     ]
    }
   ],
   "source": [
    "# Evaluate the model on the test data\n",
    "y_pred = model.predict(X_test)\n",
    "y_pred_binary = (y_pred > 0.5).astype(int)\n",
    "accuracy = accuracy_score(y_test, y_pred_binary)\n",
    "confusion = confusion_matrix(y_test, y_pred_binary)\n",
    "report = classification_report(y_test, y_pred_binary)\n"
   ]
  },
  {
   "cell_type": "code",
   "execution_count": 18,
   "metadata": {},
   "outputs": [
    {
     "name": "stdout",
     "output_type": "stream",
     "text": [
      "Accuracy: 99.94\n",
      "Confusion Matrix:\n",
      "\n",
      " [[ 3150     3]\n",
      " [    8 15319]]\n",
      "Classification Report:\n",
      "\n",
      "               precision    recall  f1-score   support\n",
      "\n",
      "           0       1.00      1.00      1.00      3153\n",
      "           1       1.00      1.00      1.00     15327\n",
      "\n",
      "    accuracy                           1.00     18480\n",
      "   macro avg       1.00      1.00      1.00     18480\n",
      "weighted avg       1.00      1.00      1.00     18480\n",
      "\n"
     ]
    }
   ],
   "source": [
    "print('Accuracy: %.2f' % (accuracy*100))\n",
    "print('Confusion Matrix:\\n\\n', confusion)\n",
    "print('Classification Report:\\n\\n', report)\n"
   ]
  },
  {
   "cell_type": "code",
   "execution_count": 19,
   "metadata": {},
   "outputs": [
    {
     "name": "stderr",
     "output_type": "stream",
     "text": [
      "c:\\Users\\hp\\AppData\\Local\\Programs\\Python\\Python311\\Lib\\site-packages\\keras\\src\\engine\\training.py:3079: UserWarning: You are saving your model as an HDF5 file via `model.save()`. This file format is considered legacy. We recommend using instead the native Keras format, e.g. `model.save('my_model.keras')`.\n",
      "  saving_api.save_model(\n"
     ]
    }
   ],
   "source": [
    "# Save the trained model weights to a file\n",
    "model.save('model_weights.h5')"
   ]
  }
 ],
 "metadata": {
  "kernelspec": {
   "display_name": "Python 3",
   "language": "python",
   "name": "python3"
  },
  "language_info": {
   "codemirror_mode": {
    "name": "ipython",
    "version": 3
   },
   "file_extension": ".py",
   "mimetype": "text/x-python",
   "name": "python",
   "nbconvert_exporter": "python",
   "pygments_lexer": "ipython3",
   "version": "3.11.5"
  },
  "orig_nbformat": 4
 },
 "nbformat": 4,
 "nbformat_minor": 2
}
